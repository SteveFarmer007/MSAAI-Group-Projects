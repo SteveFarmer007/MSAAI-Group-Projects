{
 "cells": [
  {
   "cell_type": "code",
   "execution_count": 1,
   "metadata": {},
   "outputs": [
    {
     "data": {
      "text/html": [
       "<div>\n",
       "<style scoped>\n",
       "    .dataframe tbody tr th:only-of-type {\n",
       "        vertical-align: middle;\n",
       "    }\n",
       "\n",
       "    .dataframe tbody tr th {\n",
       "        vertical-align: top;\n",
       "    }\n",
       "\n",
       "    .dataframe thead th {\n",
       "        text-align: right;\n",
       "    }\n",
       "</style>\n",
       "<table border=\"1\" class=\"dataframe\">\n",
       "  <thead>\n",
       "    <tr style=\"text-align: right;\">\n",
       "      <th></th>\n",
       "      <th>Year</th>\n",
       "      <th>Cause Name</th>\n",
       "      <th>State</th>\n",
       "      <th>Deaths</th>\n",
       "      <th>Age-adjusted Death Rate</th>\n",
       "      <th>Population</th>\n",
       "    </tr>\n",
       "  </thead>\n",
       "  <tbody>\n",
       "    <tr>\n",
       "      <th>0</th>\n",
       "      <td>2017</td>\n",
       "      <td>Unintentional injuries</td>\n",
       "      <td>United States</td>\n",
       "      <td>169936</td>\n",
       "      <td>49.4</td>\n",
       "      <td>329791231</td>\n",
       "    </tr>\n",
       "    <tr>\n",
       "      <th>1</th>\n",
       "      <td>2017</td>\n",
       "      <td>Unintentional injuries</td>\n",
       "      <td>Alabama</td>\n",
       "      <td>2703</td>\n",
       "      <td>53.8</td>\n",
       "      <td>4874747</td>\n",
       "    </tr>\n",
       "    <tr>\n",
       "      <th>2</th>\n",
       "      <td>2017</td>\n",
       "      <td>Unintentional injuries</td>\n",
       "      <td>Alaska</td>\n",
       "      <td>436</td>\n",
       "      <td>63.7</td>\n",
       "      <td>739795</td>\n",
       "    </tr>\n",
       "    <tr>\n",
       "      <th>3</th>\n",
       "      <td>2017</td>\n",
       "      <td>Unintentional injuries</td>\n",
       "      <td>Arizona</td>\n",
       "      <td>4184</td>\n",
       "      <td>56.2</td>\n",
       "      <td>7016270</td>\n",
       "    </tr>\n",
       "    <tr>\n",
       "      <th>4</th>\n",
       "      <td>2017</td>\n",
       "      <td>Unintentional injuries</td>\n",
       "      <td>Arkansas</td>\n",
       "      <td>1625</td>\n",
       "      <td>51.8</td>\n",
       "      <td>3004279</td>\n",
       "    </tr>\n",
       "  </tbody>\n",
       "</table>\n",
       "</div>"
      ],
      "text/plain": [
       "   Year              Cause Name          State  Deaths  \\\n",
       "0  2017  Unintentional injuries  United States  169936   \n",
       "1  2017  Unintentional injuries        Alabama    2703   \n",
       "2  2017  Unintentional injuries         Alaska     436   \n",
       "3  2017  Unintentional injuries        Arizona    4184   \n",
       "4  2017  Unintentional injuries       Arkansas    1625   \n",
       "\n",
       "   Age-adjusted Death Rate  Population  \n",
       "0                     49.4   329791231  \n",
       "1                     53.8     4874747  \n",
       "2                     63.7      739795  \n",
       "3                     56.2     7016270  \n",
       "4                     51.8     3004279  "
      ]
     },
     "execution_count": 1,
     "metadata": {},
     "output_type": "execute_result"
    }
   ],
   "source": [
    "import pandas as pd\n",
    "\n",
    "df = pd.read_csv('../data/processed/US_Deaths_Populations.csv', sep=',')\n",
    "\n",
    "df.head()"
   ]
  }
 ],
 "metadata": {
  "kernelspec": {
   "display_name": "Python 3",
   "language": "python",
   "name": "python3"
  },
  "language_info": {
   "codemirror_mode": {
    "name": "ipython",
    "version": 3
   },
   "file_extension": ".py",
   "mimetype": "text/x-python",
   "name": "python",
   "nbconvert_exporter": "python",
   "pygments_lexer": "ipython3",
   "version": "3.10.12"
  }
 },
 "nbformat": 4,
 "nbformat_minor": 2
}
