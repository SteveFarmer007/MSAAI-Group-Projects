{
 "cells": [
  {
   "cell_type": "markdown",
   "id": "ae0b8b",
   "metadata": {
    "collapsed": false
   },
   "source": [
    "Shared Data Frames and Functions:\n",
    "\n",
    "To use these shared items, run the code: \"%run 'shared\\_libraries\\_functions\\_dataframes.ipynb'\"\n",
    "\n",
    "**Data Frames:**\n",
    "\n",
    "df = unfiltered data\n",
    "\n",
    "all\\_deaths = drops the column \"113 Cause Name'\n",
    "\n",
    "country\\_deaths = all\\_deaths, \\+ drops rows where the cause is \"All Causes\" or state is NOT \"United States\"\n",
    "\n",
    "core\\_deaths = all\\_deaths, \\+ drops rows where the cause is \"All Causes\" or state is \"United States\"\n",
    "\n",
    "us\\_pop = all data from the 'us\\_populations.csv' file\n",
    "\n",
    "state\\_pops = up\\_pop, \\+ drops rows where the state is \"United States\"\n",
    "\n",
    "core\\_and\\_state\\_pops = combines 'core\\_deaths' and 'us\\_pop' dataframes\n",
    "\n",
    "aggregate = boils down / improves the \"core\\_and\\_state\\_pops\" frame\n",
    "\n",
    "**Functions**\n",
    "\n",
    "None yet!\n",
    "\n"
   ]
  },
  {
   "cell_type": "code",
   "execution_count": 3,
   "id": "87319b",
   "metadata": {
    "collapsed": false
   },
   "outputs": [
   ],
   "source": [
    "# Import useful libraries\n",
    "\n",
    "import pandas as pd\n",
    "import numpy as np\n",
    "import scipy as stats\n",
    "import seaborn as sns\n",
    "import statsmodels.api as sm\n",
    "import matplotlib.pyplot as plt\n",
    "import statsmodels.formula.api as smf\n",
    "from sklearn.linear_model import LinearRegression\n",
    "import warnings "
   ]
  },
  {
   "cell_type": "code",
   "execution_count": 4,
   "id": "d959e2",
   "metadata": {
    "collapsed": false
   },
   "outputs": [
   ],
   "source": [
    "# Naming the data frame with all the info \"all_deaths\":\n",
    "\n",
    "# Reading the data in the file:\n",
    "df = pd.read_csv('NCHS_-_Leading_Causes_of_Death__United_States.csv')\n",
    "\n",
    "# Creating \"all_deaths\" Data Frame that excludes the '113 Cause Name' column:\n",
    "all_deaths = df.drop(columns=['113 Cause Name'])"
   ]
  },
  {
   "cell_type": "code",
   "execution_count": 5,
   "id": "b87d87",
   "metadata": {
    "collapsed": false
   },
   "outputs": [
   ],
   "source": [
    "# Creating \"country_deaths\" Data Frame that excludes the 'All Causes', and all states except \"united states\":\n",
    "country_deaths = all_deaths[\n",
    "    (all_deaths['Cause Name'].str.strip().str.lower() != 'all causes') & \n",
    "     all_deaths['State'].str.strip().str.lower().str.contains('united states')\n",
    "]"
   ]
  },
  {
   "cell_type": "code",
   "execution_count": 6,
   "id": "f61850",
   "metadata": {
    "collapsed": false
   },
   "outputs": [
   ],
   "source": [
    "# Creating \"core_deaths\" Data Frame that excludes the 'All Causes' and 'United States' rows:\n",
    "core_deaths = all_deaths[\n",
    "    (all_deaths['Cause Name'].str.strip().str.lower() != 'all causes') & \n",
    "    (all_deaths['State'].str.strip().str.lower() != 'united states')\n",
    "]"
   ]
  },
  {
   "cell_type": "code",
   "execution_count": 7,
   "id": "35a8b8",
   "metadata": {
    "collapsed": false
   },
   "outputs": [
   ],
   "source": [
    "# Creating the \"us_pop\" frame with all data from the population file:\n",
    "\n",
    "# Reading the data in the file:\n",
    "us_pop = pd.read_csv('US_Populations.csv')"
   ]
  },
  {
   "cell_type": "code",
   "execution_count": 8,
   "id": "fcab00",
   "metadata": {
    "collapsed": false
   },
   "outputs": [
   ],
   "source": [
    "# Creating the \"state_pops\" frame that excludes the 'United States' rows from us_pop:\n",
    "\n",
    "# Reading the data in the file:\n",
    "state_pops = us_pop[us_pop['State'].str.strip().str.lower() != 'united states']"
   ]
  },
  {
   "cell_type": "code",
   "execution_count": 9,
   "id": "57c230",
   "metadata": {
    "collapsed": false
   },
   "outputs": [
   ],
   "source": [
    "# Creating the \"core_and_pop\" frame with all data from \"core_deaths\" and \"us_pop\":\n",
    "\n",
    "# Merging the dataframes on 'State' and 'Year' columns\n",
    "core_and_state_pops = pd.merge(state_pops, core_deaths, on=['State', 'Year'])"
   ]
  },
  {
   "cell_type": "code",
   "execution_count": 10,
   "id": "7317c1",
   "metadata": {
    "collapsed": false
   },
   "outputs": [
   ],
   "source": [
    "# Creating the \"aggregate\" frame which boils down / improves the \"core_and_state_pops\" frame\n",
    "aggregate = core_and_state_pops.groupby(['Year', 'Cause Name'])[['Deaths', 'Population']].sum().reset_index()"
   ]
  }
 ],
 "metadata": {
  "kernelspec": {
   "argv": [
    "/usr/bin/python3",
    "-m",
    "ipykernel",
    "--HistoryManager.enabled=False",
    "--matplotlib=inline",
    "-c",
    "%config InlineBackend.figure_formats = set(['retina'])\nimport matplotlib; matplotlib.rcParams['figure.figsize'] = (12, 7)",
    "-f",
    "{connection_file}"
   ],
   "display_name": "Python 3 (system-wide)",
   "env": {
   },
   "language": "python",
   "metadata": {
    "cocalc": {
     "description": "Python 3 programming language",
     "priority": 100,
     "url": "https://www.python.org/"
    }
   },
   "name": "python3",
   "resource_dir": "/ext/jupyter/kernels/python3"
  },
  "language_info": {
   "codemirror_mode": {
    "name": "ipython",
    "version": 3
   },
   "file_extension": ".py",
   "mimetype": "text/x-python",
   "name": "python",
   "nbconvert_exporter": "python",
   "pygments_lexer": "ipython3",
   "version": "3.10.12"
  }
 },
 "nbformat": 4,
 "nbformat_minor": 4
}