{
 "cells": [
  {
   "cell_type": "markdown",
   "id": "ae0b8b",
   "metadata": {
    "collapsed": false
   },
   "source": [
    "Shared Data Frames and Functions:\n",
    "\n",
    "To use these shared items, run the code: \"%run 'shared\\_libraries\\_functions\\_dataframes.ipynb'\"\n",
    "\n",
    "**Data Frames:**\n",
    "\n",
    "df = unfiltered data\n",
    "\n",
    "all\\_deaths = drops the column \"113 Cause Name'\n",
    "\n",
    "all\\_causes gone = all\\_deaths, \\+ drops rows where the cause is \"All Causes\"\n",
    "\n",
    "us\\_pop = all data from the 'us\\_populations.csv' file\n",
    "\n",
    "**Functions**\n",
    "\n",
    "None yet!\n",
    "\n"
   ]
  },
  {
   "cell_type": "code",
   "execution_count": 3,
   "id": "87319b",
   "metadata": {
    "collapsed": false
   },
   "outputs": [
   ],
   "source": [
    "# Import useful libraries\n",
    "\n",
    "import pandas as pd\n",
    "import numpy as np\n",
    "import scipy as stats\n",
    "import seaborn as sns\n",
    "import matplotlib.pyplot as plt"
   ]
  },
  {
   "cell_type": "code",
   "execution_count": 4,
   "id": "d959e2",
   "metadata": {
    "collapsed": false
   },
   "outputs": [
   ],
   "source": [
    "# Naming the data frame with all the info \"all_deaths\":\n",
    "\n",
    "# Reading the data in the file:\n",
    "df = pd.read_csv('NCHS_-_Leading_Causes_of_Death__United_States.csv')\n",
    "\n",
    "# Creating \"all_deaths\" Data Frame that excludes the '113 Cause Name' column:\n",
    "all_deaths = df.drop(columns=['113 Cause Name'])"
   ]
  },
  {
   "cell_type": "code",
   "execution_count": 5,
   "id": "f61850",
   "metadata": {
    "collapsed": false
   },
   "outputs": [
   ],
   "source": [
    "# Creating \"all_causes_gone\" Data Frame that excludes the 'All Causes' rows:\n",
    "all_causes_gone = all_deaths[all_deaths['Cause Name'].str.strip().str.lower() != 'all causes']"
   ]
  },
  {
   "cell_type": "code",
   "execution_count": 8,
   "id": "35a8b8",
   "metadata": {
    "collapsed": false
   },
   "outputs": [
   ],
   "source": [
    "# Creating the \"pop\" frame with all data from the population file:\n",
    "\n",
    "# Reading the data in the file:\n",
    "pop = pd.read_csv('US_Populations.csv')"
   ]
  }
 ],
 "metadata": {
  "kernelspec": {
   "argv": [
    "/usr/bin/python3",
    "-m",
    "ipykernel",
    "--HistoryManager.enabled=False",
    "--matplotlib=inline",
    "-c",
    "%config InlineBackend.figure_formats = set(['retina'])\nimport matplotlib; matplotlib.rcParams['figure.figsize'] = (12, 7)",
    "-f",
    "{connection_file}"
   ],
   "display_name": "Python 3 (system-wide)",
   "env": {
   },
   "language": "python",
   "metadata": {
    "cocalc": {
     "description": "Python 3 programming language",
     "priority": 100,
     "url": "https://www.python.org/"
    }
   },
   "name": "python3",
   "resource_dir": "/ext/jupyter/kernels/python3"
  },
  "language_info": {
   "codemirror_mode": {
    "name": "ipython",
    "version": 3
   },
   "file_extension": ".py",
   "mimetype": "text/x-python",
   "name": "python",
   "nbconvert_exporter": "python",
   "pygments_lexer": "ipython3",
   "version": "3.10.12"
  }
 },
 "nbformat": 4,
 "nbformat_minor": 4
}